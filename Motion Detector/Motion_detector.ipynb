{
 "cells": [
  {
   "cell_type": "markdown",
   "metadata": {},
   "source": [
    "# Motion Detector"
   ]
  },
  {
   "cell_type": "code",
   "execution_count": 3,
   "metadata": {},
   "outputs": [
    {
     "ename": "KeyboardInterrupt",
     "evalue": "",
     "output_type": "error",
     "traceback": [
      "\u001b[1;31m---------------------------------------------------------------------------\u001b[0m",
      "\u001b[1;31mKeyboardInterrupt\u001b[0m                         Traceback (most recent call last)",
      "Cell \u001b[1;32mIn[3], line 8\u001b[0m\n\u001b[0;32m      4\u001b[0m subtractor \u001b[38;5;241m=\u001b[39m cv\u001b[38;5;241m.\u001b[39mcreateBackgroundSubtractorMOG2(\u001b[38;5;241m20\u001b[39m, \u001b[38;5;241m50\u001b[39m)\n\u001b[0;32m      6\u001b[0m \u001b[38;5;28;01mwhile\u001b[39;00m \u001b[38;5;28;01mTrue\u001b[39;00m :\n\u001b[1;32m----> 8\u001b[0m     ret, frame \u001b[38;5;241m=\u001b[39m \u001b[43mvideo\u001b[49m\u001b[38;5;241;43m.\u001b[39;49m\u001b[43mread\u001b[49m\u001b[43m(\u001b[49m\u001b[43m)\u001b[49m\n\u001b[0;32m     10\u001b[0m     \u001b[38;5;28;01mif\u001b[39;00m ret:\n\u001b[0;32m     12\u001b[0m         mask \u001b[38;5;241m=\u001b[39m subtractor\u001b[38;5;241m.\u001b[39mapply(frame)\n",
      "\u001b[1;31mKeyboardInterrupt\u001b[0m: "
     ]
    },
    {
     "ename": "",
     "evalue": "",
     "output_type": "error",
     "traceback": [
      "\u001b[1;31mThe Kernel crashed while executing code in the current cell or a previous cell. \n",
      "\u001b[1;31mPlease review the code in the cell(s) to identify a possible cause of the failure. \n",
      "\u001b[1;31mClick <a href='https://aka.ms/vscodeJupyterKernelCrash'>here</a> for more info. \n",
      "\u001b[1;31mView Jupyter <a href='command:jupyter.viewOutput'>log</a> for further details."
     ]
    }
   ],
   "source": [
    "import cv2 as cv\n",
    "\n",
    "video = cv.VideoCapture(\"Tokyo Rainy Night Walk in Shinjuku __ 4K HDR Spatial Audio.mp4\")\n",
    "subtractor = cv.createBackgroundSubtractorMOG2(20, 50)\n",
    "\n",
    "while True :\n",
    "\n",
    "    ret, frame = video.read()\n",
    "\n",
    "    if ret:\n",
    "\n",
    "        mask = subtractor.apply(frame)\n",
    "        cv.imshow('Mask', mask)\n",
    "\n",
    "        if cv.waitKey(5) == ord('X'):\n",
    "\n",
    "            break\n",
    "\n",
    "    else :\n",
    "\n",
    "        video = cv.VideoCapture(\"Tokyo Rainy Night Walk in Shinjuku __ 4K HDR Spatial Audio.mp4\")\n",
    "\n",
    "cv.destroyAllWindows()\n",
    "video.release()"
   ]
  }
 ],
 "metadata": {
  "kernelspec": {
   "display_name": "Python 3",
   "language": "python",
   "name": "python3"
  },
  "language_info": {
   "codemirror_mode": {
    "name": "ipython",
    "version": 3
   },
   "file_extension": ".py",
   "mimetype": "text/x-python",
   "name": "python",
   "nbconvert_exporter": "python",
   "pygments_lexer": "ipython3",
   "version": "3.11.1"
  }
 },
 "nbformat": 4,
 "nbformat_minor": 2
}
